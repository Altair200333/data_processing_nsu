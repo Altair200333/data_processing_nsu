{
 "cells": [
  {
   "cell_type": "code",
   "execution_count": 211,
   "id": "continental-waterproof",
   "metadata": {},
   "outputs": [],
   "source": [
    "import matplotlib.pyplot as plt\n",
    "import numpy as np\n",
    "import scipy.integrate as integrate\n",
    "import math\n",
    "import scipy.fft as fft\n",
    "from functools import partial\n",
    "from scipy import signal\n",
    "%matplotlib inline"
   ]
  },
  {
   "cell_type": "code",
   "execution_count": 212,
   "id": "powered-calendar",
   "metadata": {},
   "outputs": [],
   "source": [
    "#plt.rcParams['figure.figsize'] = [11, 13]\n",
    "#plt.rcParams['figure.dpi'] = 100"
   ]
  },
  {
   "cell_type": "code",
   "execution_count": 223,
   "id": "pointed-parliament",
   "metadata": {},
   "outputs": [],
   "source": [
    "x_step = 0.05 #x-step\n",
    "max_x = 1\n",
    "max_t = 0.1\n",
    "\n",
    "t_step = x_step*x_step/2 #time step\n",
    "\n",
    "w = int(max_x/x_step)\n",
    "h = int(max_t/t_step)\n",
    "\n",
    "T1 = 20.0\n",
    "T2 = 25\n",
    "T0 = 20.0\n",
    "\n",
    "temperatures = []\n",
    "for i in range(h):\n",
    "    new = []\n",
    "    for j in range(w):\n",
    "        new.append(0)\n",
    "    temperatures.append(new)\n",
    "\n",
    "for i in range(h):\n",
    "    temperatures[i][0] = T1 + (T2-T1)*(i/(h-1))\n",
    "temperatures[0][w-1] = T0\n",
    "\n",
    "#--------\n",
    "for i in range(0, w):\n",
    "    temperatures[0][i] = (T0-T1)/(w-1)*i+T1\n",
    "for i in range(0, h):\n",
    "    temperatures[i][w-1] = T0"
   ]
  },
  {
   "cell_type": "code",
   "execution_count": 225,
   "id": "stuffed-element",
   "metadata": {},
   "outputs": [],
   "source": [
    "#temperatures"
   ]
  },
  {
   "cell_type": "code",
   "execution_count": 226,
   "id": "important-wilson",
   "metadata": {},
   "outputs": [
    {
     "data": {
      "text/plain": [
       "<matplotlib.collections.QuadMesh at 0x1182ffbb2b0>"
      ]
     },
     "execution_count": 226,
     "metadata": {},
     "output_type": "execute_result"
    },
    {
     "data": {
      "image/png": "[encoded data removed]",
      "text/plain": [
       "<Figure size 432x288 with 1 Axes>"
      ]
     },
     "metadata": {
      "needs_background": "light"
     },
     "output_type": "display_data"
    }
   ],
   "source": [
    "#начальные условия\n",
    "plt.pcolormesh(temperatures)"
   ]
  },
  {
   "cell_type": "code",
   "execution_count": 227,
   "id": "tired-mathematics",
   "metadata": {},
   "outputs": [],
   "source": [
    "for t in range(0, h-1):\n",
    "    for x in range(1, w-1):\n",
    "        u = temperatures\n",
    "        u[t + 1][x] = u[t][x] + t_step / (x_step**2) * (u[t][x+1] - 2 * u[t][x] + u[t][x-1])"
   ]
  },
  {
   "cell_type": "code",
   "execution_count": 228,
   "id": "vanilla-glasgow",
   "metadata": {},
   "outputs": [
    {
     "data": {
      "text/plain": [
       "<matplotlib.collections.QuadMesh at 0x1182eb529d0>"
      ]
     },
     "execution_count": 228,
     "metadata": {},
     "output_type": "execute_result"
    },
    {
     "data": {
      "image/png": "[encoded data removed]",
      "text/plain": [
       "<Figure size 432x288 with 1 Axes>"
      ]
     },
     "metadata": {
      "needs_background": "light"
     },
     "output_type": "display_data"
    }
   ],
   "source": [
    "plt.pcolormesh(temperatures)"
   ]
  },
  {
   "cell_type": "code",
   "execution_count": 162,
   "id": "prompt-money",
   "metadata": {},
   "outputs": [],
   "source": [
    "#temperatures"
   ]
  },
  {
   "cell_type": "code",
   "execution_count": null,
   "id": "psychological-knitting",
   "metadata": {},
   "outputs": [],
   "source": []
  }
 ],
 "metadata": {
  "kernelspec": {
   "display_name": "Python 3",
   "language": "python",
   "name": "python3"
  },
  "language_info": {
   "codemirror_mode": {
    "name": "ipython",
    "version": 3
   },
   "file_extension": ".py",
   "mimetype": "text/x-python",
   "name": "python",
   "nbconvert_exporter": "python",
   "pygments_lexer": "ipython3",
   "version": "3.8.6"
  }
 },
 "nbformat": 4,
 "nbformat_minor": 5
}
