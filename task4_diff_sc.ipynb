{
 "cells": [
  {
   "cell_type": "code",
   "execution_count": 31,
   "id": "continental-waterproof",
   "metadata": {},
   "outputs": [],
   "source": [
    "import matplotlib.pyplot as plt\n",
    "import numpy as np\n",
    "import scipy.integrate as integrate\n",
    "import math\n",
    "import scipy.fft as fft\n",
    "from functools import partial\n",
    "from scipy import signal\n",
    "%matplotlib inline"
   ]
  },
  {
   "cell_type": "code",
   "execution_count": 32,
   "id": "powered-calendar",
   "metadata": {},
   "outputs": [],
   "source": [
    "#plt.rcParams['figure.figsize'] = [11, 13]\n",
    "#plt.rcParams['figure.dpi'] = 100"
   ]
  },
  {
   "cell_type": "code",
   "execution_count": 39,
   "id": "pointed-parliament",
   "metadata": {},
   "outputs": [],
   "source": [
    "x_step = 0.02 #x-step\n",
    "max_x = 1\n",
    "max_t = 1\n",
    "\n",
    "t_step = x_step*x_step/2 #time step\n",
    "\n",
    "w = int(max_x/x_step)\n",
    "h = int(max_t/t_step)\n",
    "\n",
    "T1 = 20.0\n",
    "T2 = 40\n",
    "T0 = 20.0\n",
    "\n",
    "temperatures = []\n",
    "for i in range(h):\n",
    "    new = []\n",
    "    for j in range(w):\n",
    "        new.append(0)\n",
    "    temperatures.append(new)\n",
    "\n",
    "for i in range(h):\n",
    "    temperatures[i][0] = T1 + (T2-T1)*(i/(h-1))\n",
    "temperatures[0][w-1] = T0\n",
    "\n",
    "#--------\n",
    "for i in range(0, w):\n",
    "    temperatures[0][i] = (T0-T1)/(w-1)*i+T1\n",
    "for i in range(0, h):\n",
    "    temperatures[i][w-1] = T0"
   ]
  },
  {
   "cell_type": "code",
   "execution_count": 40,
   "id": "stuffed-element",
   "metadata": {},
   "outputs": [],
   "source": [
    "#temperatures"
   ]
  },
  {
   "cell_type": "code",
   "execution_count": 41,
   "id": "important-wilson",
   "metadata": {},
   "outputs": [
    {
     "data": {
      "text/plain": [
       "<matplotlib.collections.QuadMesh at 0x1e004a2cdc0>"
      ]
     },
     "execution_count": 41,
     "metadata": {},
     "output_type": "execute_result"
    },
    {
     "data": {
      "image/png": "[encoded data removed]",
      "text/plain": [
       "<Figure size 432x288 with 1 Axes>"
      ]
     },
     "metadata": {
      "needs_background": "light"
     },
     "output_type": "display_data"
    }
   ],
   "source": [
    "#начальные условия\n",
    "plt.pcolormesh(temperatures)"
   ]
  },
  {
   "cell_type": "code",
   "execution_count": 42,
   "id": "tired-mathematics",
   "metadata": {},
   "outputs": [],
   "source": [
    "for t in range(0, h-1):\n",
    "    for x in range(1, w-1):\n",
    "        temperatures[t + 1][x] = temperatures[t][x] +\\\n",
    "            t_step / (x_step**2) * (temperatures[t][x+1] - 2 * temperatures[t][x] + temperatures[t][x-1])"
   ]
  },
  {
   "cell_type": "code",
   "execution_count": 43,
   "id": "vanilla-glasgow",
   "metadata": {},
   "outputs": [
    {
     "data": {
      "text/plain": [
       "<matplotlib.collections.QuadMesh at 0x1e00ba83520>"
      ]
     },
     "execution_count": 43,
     "metadata": {},
     "output_type": "execute_result"
    },
    {
     "data": {
      "image/png": "[encoded data removed]",
      "text/plain": [
       "<Figure size 432x288 with 1 Axes>"
      ]
     },
     "metadata": {
      "needs_background": "light"
     },
     "output_type": "display_data"
    }
   ],
   "source": [
    "plt.pcolormesh(temperatures)"
   ]
  },
  {
   "cell_type": "code",
   "execution_count": 38,
   "id": "prompt-money",
   "metadata": {},
   "outputs": [],
   "source": [
    "#temperatures"
   ]
  },
  {
   "cell_type": "code",
   "execution_count": null,
   "id": "psychological-knitting",
   "metadata": {},
   "outputs": [],
   "source": []
  },
  {
   "cell_type": "code",
   "execution_count": null,
   "id": "configured-medicare",
   "metadata": {},
   "outputs": [],
   "source": []
  }
 ],
 "metadata": {
  "kernelspec": {
   "display_name": "Python 3",
   "language": "python",
   "name": "python3"
  },
  "language_info": {
   "codemirror_mode": {
    "name": "ipython",
    "version": 3
   },
   "file_extension": ".py",
   "mimetype": "text/x-python",
   "name": "python",
   "nbconvert_exporter": "python",
   "pygments_lexer": "ipython3",
   "version": "3.8.6"
  }
 },
 "nbformat": 4,
 "nbformat_minor": 5
}
