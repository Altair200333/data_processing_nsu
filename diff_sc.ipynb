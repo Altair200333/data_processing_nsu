{
 "cells": [
  {
   "cell_type": "code",
   "execution_count": 2,
   "id": "settled-crime",
   "metadata": {},
   "outputs": [],
   "source": [
    "import matplotlib.pyplot as plt\n",
    "import numpy as np\n",
    "import scipy.integrate as integrate\n",
    "import math\n",
    "import scipy.fft as fft\n",
    "from functools import partial\n",
    "from scipy import signal\n",
    "%matplotlib inline"
   ]
  },
  {
   "cell_type": "code",
   "execution_count": 3,
   "id": "recognized-crossing",
   "metadata": {},
   "outputs": [],
   "source": [
    "#plt.rcParams['figure.figsize'] = [11, 13]\n",
    "#plt.rcParams['figure.dpi'] = 100"
   ]
  },
  {
   "cell_type": "code",
   "execution_count": 4,
   "id": "viral-spirit",
   "metadata": {},
   "outputs": [],
   "source": [
    "def showPlots(plots):\n",
    "    colors = ['#06d6a0', '#277da1', '#ee6c4d','#5a189a','#f3722c']\n",
    "    plotCount = 0\n",
    "    \n",
    "    for i in range(len(plots)):\n",
    "        if 'same' not in plots[i] or plots[i]['same'] == False:\n",
    "            plotCount+=1\n",
    "            \n",
    "    fig, axs = plt.subplots(plotCount)\n",
    "    pid = 0\n",
    "    for i in range(len(plots)):\n",
    "        if 'same' in plots[i] and plots[i]['same'] == True and pid > 0:\n",
    "            pid -= 1            \n",
    "        if 'x' not in plots[i]:\n",
    "            axs[pid].plot(plots[i]['data'], label = plots[i]['label'], color = colors[i%len(colors)])\n",
    "        else:\n",
    "            axs[pid].plot(plots[i]['x'][:len(plots[i]['data'])], plots[i]['data'], label = plots[i]['label'], color = colors[i%len(colors)])\n",
    "        axs[pid].grid()\n",
    "        axs[pid].legend(loc = 'upper right')\n",
    "        \n",
    "        pid+=1"
   ]
  },
  {
   "cell_type": "code",
   "execution_count": 9,
   "id": "indie-library",
   "metadata": {},
   "outputs": [],
   "source": [
    "x_step = 0.1 #x-step\n",
    "t_step = 0.1 #time step\n",
    "max_x = 1\n",
    "max_t = 1\n",
    "\n",
    "w = int(max_x/x_step)\n",
    "h = int(max_t/t_step)\n",
    "\n",
    "T1 = 2\n",
    "T2 = 6\n",
    "T0 = 2\n",
    "\n",
    "temperatures = []\n",
    "for i in range(h):\n",
    "    new = []\n",
    "    for j in range(w):\n",
    "        new.append(0)\n",
    "    temperatures.append(new)\n",
    "\n",
    "for i in range(h):\n",
    "    temperatures[i][0] = T1 + (T2-T1)*(i/(h-1))\n",
    "temperatures[0][w-1] = T0"
   ]
  },
  {
   "cell_type": "code",
   "execution_count": 10,
   "id": "according-immunology",
   "metadata": {},
   "outputs": [
    {
     "data": {
      "text/plain": [
       "[[2.0, 0, 0, 0, 0, 0, 0, 0, 0, 2],\n",
       " [2.4444444444444446, 0, 0, 0, 0, 0, 0, 0, 0, 0],\n",
       " [2.888888888888889, 0, 0, 0, 0, 0, 0, 0, 0, 0],\n",
       " [3.333333333333333, 0, 0, 0, 0, 0, 0, 0, 0, 0],\n",
       " [3.7777777777777777, 0, 0, 0, 0, 0, 0, 0, 0, 0],\n",
       " [4.222222222222222, 0, 0, 0, 0, 0, 0, 0, 0, 0],\n",
       " [4.666666666666666, 0, 0, 0, 0, 0, 0, 0, 0, 0],\n",
       " [5.111111111111111, 0, 0, 0, 0, 0, 0, 0, 0, 0],\n",
       " [5.555555555555555, 0, 0, 0, 0, 0, 0, 0, 0, 0],\n",
       " [6.0, 0, 0, 0, 0, 0, 0, 0, 0, 0]]"
      ]
     },
     "execution_count": 10,
     "metadata": {},
     "output_type": "execute_result"
    }
   ],
   "source": [
    "temperatures"
   ]
  },
  {
   "cell_type": "code",
   "execution_count": 11,
   "id": "interracial-prayer",
   "metadata": {},
   "outputs": [
    {
     "data": {
      "text/plain": [
       "<matplotlib.collections.QuadMesh at 0x1c24d207a30>"
      ]
     },
     "execution_count": 11,
     "metadata": {},
     "output_type": "execute_result"
    },
    {
     "data": {
      "image/png": "[encoded data removed]",
      "text/plain": [
       "<Figure size 432x288 with 1 Axes>"
      ]
     },
     "metadata": {
      "needs_background": "light"
     },
     "output_type": "display_data"
    }
   ],
   "source": [
    "plt.pcolormesh(temperatures)"
   ]
  },
  {
   "cell_type": "code",
   "execution_count": 14,
   "id": "strategic-climate",
   "metadata": {},
   "outputs": [],
   "source": [
    "visited = []\n",
    "for i in range(h):\n",
    "    new = []\n",
    "    for j in range(w):\n",
    "        new.append(0)\n",
    "    visited.append(new)\n",
    "    \n",
    "def getTemp(x, t):\n",
    "    if x < 0 or x >= w or t < 0 or t >= h:\n",
    "        return T0\n",
    "    if x == 0:\n",
    "        return temperatures[t][x]\n",
    "    elif t == 0 and x == w-1:\n",
    "        return temperatures[t][x]\n",
    "    return (-(x_step**2)*getTemp(x, t+1)+t_step*getTemp(x+1, t)+t_step*getTemp(x-1, t))/(2*t_step-x_step**2)"
   ]
  },
  {
   "cell_type": "code",
   "execution_count": null,
   "id": "virgin-sympathy",
   "metadata": {},
   "outputs": [],
   "source": [
    "getTemp(1,0)"
   ]
  },
  {
   "cell_type": "code",
   "execution_count": null,
   "id": "thirty-origin",
   "metadata": {},
   "outputs": [],
   "source": []
  }
 ],
 "metadata": {
  "kernelspec": {
   "display_name": "Python 3",
   "language": "python",
   "name": "python3"
  },
  "language_info": {
   "codemirror_mode": {
    "name": "ipython",
    "version": 3
   },
   "file_extension": ".py",
   "mimetype": "text/x-python",
   "name": "python",
   "nbconvert_exporter": "python",
   "pygments_lexer": "ipython3",
   "version": "3.8.6"
  }
 },
 "nbformat": 4,
 "nbformat_minor": 5
}
