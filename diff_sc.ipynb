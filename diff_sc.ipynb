{
 "cells": [
  {
   "cell_type": "code",
   "execution_count": 1,
   "id": "continental-waterproof",
   "metadata": {},
   "outputs": [],
   "source": [
    "import matplotlib.pyplot as plt\n",
    "import numpy as np\n",
    "import scipy.integrate as integrate\n",
    "import math\n",
    "import scipy.fft as fft\n",
    "from functools import partial\n",
    "from scipy import signal\n",
    "%matplotlib inline"
   ]
  },
  {
   "cell_type": "code",
   "execution_count": 2,
   "id": "powered-calendar",
   "metadata": {},
   "outputs": [],
   "source": [
    "#plt.rcParams['figure.figsize'] = [11, 13]\n",
    "#plt.rcParams['figure.dpi'] = 100"
   ]
  },
  {
   "cell_type": "code",
   "execution_count": 3,
   "id": "minor-inspiration",
   "metadata": {},
   "outputs": [],
   "source": [
    "def showPlots(plots):\n",
    "    colors = ['#06d6a0', '#277da1', '#ee6c4d','#5a189a','#f3722c']\n",
    "    plotCount = 0\n",
    "    \n",
    "    for i in range(len(plots)):\n",
    "        if 'same' not in plots[i] or plots[i]['same'] == False:\n",
    "            plotCount+=1\n",
    "            \n",
    "    fig, axs = plt.subplots(plotCount)\n",
    "    pid = 0\n",
    "    for i in range(len(plots)):\n",
    "        if 'same' in plots[i] and plots[i]['same'] == True and pid > 0:\n",
    "            pid -= 1            \n",
    "        if 'x' not in plots[i]:\n",
    "            axs[pid].plot(plots[i]['data'], label = plots[i]['label'], color = colors[i%len(colors)])\n",
    "        else:\n",
    "            axs[pid].plot(plots[i]['x'][:len(plots[i]['data'])], plots[i]['data'], label = plots[i]['label'], color = colors[i%len(colors)])\n",
    "        axs[pid].grid()\n",
    "        axs[pid].legend(loc = 'upper right')\n",
    "        \n",
    "        pid+=1"
   ]
  },
  {
   "cell_type": "code",
   "execution_count": 94,
   "id": "pointed-parliament",
   "metadata": {},
   "outputs": [],
   "source": [
    "x_step = 0.1 #x-step\n",
    "t_step = 0.01 #time step\n",
    "max_x = 0.4\n",
    "max_t = 0.4\n",
    "\n",
    "w = int(max_x/x_step)\n",
    "h = int(max_t/t_step)\n",
    "\n",
    "T1 = 10\n",
    "T2 = 10\n",
    "T0 = 0.5\n",
    "\n",
    "temperatures = []\n",
    "for i in range(h):\n",
    "    new = []\n",
    "    for j in range(w):\n",
    "        new.append(0)\n",
    "    temperatures.append(new)\n",
    "\n",
    "for i in range(h):\n",
    "    temperatures[i][0] = T1 + (T2-T1)*(i/(h-1))\n",
    "temperatures[0][w-1] = T0"
   ]
  },
  {
   "cell_type": "code",
   "execution_count": 95,
   "id": "stuffed-element",
   "metadata": {},
   "outputs": [
    {
     "data": {
      "text/plain": [
       "[[10.0, 0, 0, 0.5],\n",
       " [10.0, 0, 0, 0],\n",
       " [10.0, 0, 0, 0],\n",
       " [10.0, 0, 0, 0],\n",
       " [10.0, 0, 0, 0],\n",
       " [10.0, 0, 0, 0],\n",
       " [10.0, 0, 0, 0],\n",
       " [10.0, 0, 0, 0],\n",
       " [10.0, 0, 0, 0],\n",
       " [10.0, 0, 0, 0],\n",
       " [10.0, 0, 0, 0],\n",
       " [10.0, 0, 0, 0],\n",
       " [10.0, 0, 0, 0],\n",
       " [10.0, 0, 0, 0],\n",
       " [10.0, 0, 0, 0],\n",
       " [10.0, 0, 0, 0],\n",
       " [10.0, 0, 0, 0],\n",
       " [10.0, 0, 0, 0],\n",
       " [10.0, 0, 0, 0],\n",
       " [10.0, 0, 0, 0],\n",
       " [10.0, 0, 0, 0],\n",
       " [10.0, 0, 0, 0],\n",
       " [10.0, 0, 0, 0],\n",
       " [10.0, 0, 0, 0],\n",
       " [10.0, 0, 0, 0],\n",
       " [10.0, 0, 0, 0],\n",
       " [10.0, 0, 0, 0],\n",
       " [10.0, 0, 0, 0],\n",
       " [10.0, 0, 0, 0],\n",
       " [10.0, 0, 0, 0],\n",
       " [10.0, 0, 0, 0],\n",
       " [10.0, 0, 0, 0],\n",
       " [10.0, 0, 0, 0],\n",
       " [10.0, 0, 0, 0],\n",
       " [10.0, 0, 0, 0],\n",
       " [10.0, 0, 0, 0],\n",
       " [10.0, 0, 0, 0],\n",
       " [10.0, 0, 0, 0],\n",
       " [10.0, 0, 0, 0],\n",
       " [10.0, 0, 0, 0]]"
      ]
     },
     "execution_count": 95,
     "metadata": {},
     "output_type": "execute_result"
    }
   ],
   "source": [
    "temperatures"
   ]
  },
  {
   "cell_type": "code",
   "execution_count": 96,
   "id": "important-wilson",
   "metadata": {},
   "outputs": [
    {
     "data": {
      "text/plain": [
       "<matplotlib.collections.QuadMesh at 0x26d39ff28b0>"
      ]
     },
     "execution_count": 96,
     "metadata": {},
     "output_type": "execute_result"
    },
    {
     "data": {
      "image/png": "[encoded data removed]",
      "text/plain": [
       "<Figure size 432x288 with 1 Axes>"
      ]
     },
     "metadata": {
      "needs_background": "light"
     },
     "output_type": "display_data"
    }
   ],
   "source": [
    "plt.pcolormesh(temperatures)\n",
    "#print(temperatures[3][0])"
   ]
  },
  {
   "cell_type": "code",
   "execution_count": 97,
   "id": "european-knife",
   "metadata": {},
   "outputs": [],
   "source": [
    "visited = []\n",
    "for i in range(h):\n",
    "    new = []\n",
    "    for j in range(w):\n",
    "        new.append(0)\n",
    "    visited.append(new)\n",
    "\n",
    "def getRaw(x, t):\n",
    "    #print(str(x)+\" \"+str(t))\n",
    "    if x < 0 or x >= w or t < 0 or t >= h:\n",
    "        return T0\n",
    "    return temperatures[t][x]\n",
    "def getTemp(x, t):\n",
    "    #return (x_step**2)/t_step*(getRawTemp(x-1, t+1)-getRawTemp(x-1, t))+2*getRawTemp(x-1, t)-getRawTemp(x-2, t)\n",
    "    return t_step/(x_step**2)*(getRaw(x+1, t-1)-2*getRaw(x, t-1)+getRaw(x-1, t-1))+getRaw(x, t-1)"
   ]
  },
  {
   "cell_type": "code",
   "execution_count": 98,
   "id": "german-curtis",
   "metadata": {},
   "outputs": [
    {
     "data": {
      "text/plain": [
       "0.5"
      ]
     },
     "execution_count": 98,
     "metadata": {},
     "output_type": "execute_result"
    }
   ],
   "source": [
    "getTemp(1,0)"
   ]
  },
  {
   "cell_type": "code",
   "execution_count": 99,
   "id": "tired-mathematics",
   "metadata": {},
   "outputs": [],
   "source": [
    "for i in range(0, w):\n",
    "    temperatures[0][i] = (T0-T1)/(w-1)*i+T1\n",
    "#for i in range(1, w-1):#x\n",
    "#    for j in range(1, h):#t\n",
    "#        temperatures[j][i] = getTemp(i,j)"
   ]
  },
  {
   "cell_type": "code",
   "execution_count": 100,
   "id": "vanilla-glasgow",
   "metadata": {},
   "outputs": [
    {
     "data": {
      "text/plain": [
       "<matplotlib.collections.QuadMesh at 0x26d3a054310>"
      ]
     },
     "execution_count": 100,
     "metadata": {},
     "output_type": "execute_result"
    },
    {
     "data": {
      "image/png": "[encoded data removed]",
      "text/plain": [
       "<Figure size 432x288 with 1 Axes>"
      ]
     },
     "metadata": {
      "needs_background": "light"
     },
     "output_type": "display_data"
    }
   ],
   "source": [
    "plt.pcolormesh(temperatures)"
   ]
  },
  {
   "cell_type": "code",
   "execution_count": 101,
   "id": "prompt-money",
   "metadata": {},
   "outputs": [
    {
     "data": {
      "text/plain": [
       "[[10.0, 6.833333333333334, 3.666666666666667, 0.5],\n",
       " [10.0, 0, 0, 0],\n",
       " [10.0, 0, 0, 0],\n",
       " [10.0, 0, 0, 0],\n",
       " [10.0, 0, 0, 0],\n",
       " [10.0, 0, 0, 0],\n",
       " [10.0, 0, 0, 0],\n",
       " [10.0, 0, 0, 0],\n",
       " [10.0, 0, 0, 0],\n",
       " [10.0, 0, 0, 0],\n",
       " [10.0, 0, 0, 0],\n",
       " [10.0, 0, 0, 0],\n",
       " [10.0, 0, 0, 0],\n",
       " [10.0, 0, 0, 0],\n",
       " [10.0, 0, 0, 0],\n",
       " [10.0, 0, 0, 0],\n",
       " [10.0, 0, 0, 0],\n",
       " [10.0, 0, 0, 0],\n",
       " [10.0, 0, 0, 0],\n",
       " [10.0, 0, 0, 0],\n",
       " [10.0, 0, 0, 0],\n",
       " [10.0, 0, 0, 0],\n",
       " [10.0, 0, 0, 0],\n",
       " [10.0, 0, 0, 0],\n",
       " [10.0, 0, 0, 0],\n",
       " [10.0, 0, 0, 0],\n",
       " [10.0, 0, 0, 0],\n",
       " [10.0, 0, 0, 0],\n",
       " [10.0, 0, 0, 0],\n",
       " [10.0, 0, 0, 0],\n",
       " [10.0, 0, 0, 0],\n",
       " [10.0, 0, 0, 0],\n",
       " [10.0, 0, 0, 0],\n",
       " [10.0, 0, 0, 0],\n",
       " [10.0, 0, 0, 0],\n",
       " [10.0, 0, 0, 0],\n",
       " [10.0, 0, 0, 0],\n",
       " [10.0, 0, 0, 0],\n",
       " [10.0, 0, 0, 0],\n",
       " [10.0, 0, 0, 0]]"
      ]
     },
     "execution_count": 101,
     "metadata": {},
     "output_type": "execute_result"
    }
   ],
   "source": [
    "temperatures"
   ]
  },
  {
   "cell_type": "code",
   "execution_count": null,
   "id": "psychological-knitting",
   "metadata": {},
   "outputs": [],
   "source": []
  },
  {
   "cell_type": "code",
   "execution_count": null,
   "id": "reserved-auckland",
   "metadata": {},
   "outputs": [],
   "source": []
  }
 ],
 "metadata": {
  "kernelspec": {
   "display_name": "Python 3",
   "language": "python",
   "name": "python3"
  },
  "language_info": {
   "codemirror_mode": {
    "name": "ipython",
    "version": 3
   },
   "file_extension": ".py",
   "mimetype": "text/x-python",
   "name": "python",
   "nbconvert_exporter": "python",
   "pygments_lexer": "ipython3",
   "version": "3.8.6"
  }
 },
 "nbformat": 4,
 "nbformat_minor": 5
}
