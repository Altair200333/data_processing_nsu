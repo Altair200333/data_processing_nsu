{
 "cells": [
  {
   "cell_type": "code",
   "execution_count": 93,
   "id": "continental-waterproof",
   "metadata": {},
   "outputs": [],
   "source": [
    "import matplotlib.pyplot as plt\n",
    "import numpy as np\n",
    "import scipy.integrate as integrate\n",
    "import math\n",
    "import scipy.fft as fft\n",
    "from functools import partial\n",
    "from scipy import signal\n",
    "%matplotlib inline"
   ]
  },
  {
   "cell_type": "code",
   "execution_count": 94,
   "id": "powered-calendar",
   "metadata": {},
   "outputs": [],
   "source": [
    "#plt.rcParams['figure.figsize'] = [11, 13]\n",
    "#plt.rcParams['figure.dpi'] = 100"
   ]
  },
  {
   "cell_type": "code",
   "execution_count": 95,
   "id": "minor-inspiration",
   "metadata": {},
   "outputs": [],
   "source": [
    "def showPlots(plots):\n",
    "    colors = ['#06d6a0', '#277da1', '#ee6c4d','#5a189a','#f3722c']\n",
    "    plotCount = 0\n",
    "    \n",
    "    for i in range(len(plots)):\n",
    "        if 'same' not in plots[i] or plots[i]['same'] == False:\n",
    "            plotCount+=1\n",
    "            \n",
    "    fig, axs = plt.subplots(plotCount)\n",
    "    pid = 0\n",
    "    for i in range(len(plots)):\n",
    "        if 'same' in plots[i] and plots[i]['same'] == True and pid > 0:\n",
    "            pid -= 1            \n",
    "        if 'x' not in plots[i]:\n",
    "            axs[pid].plot(plots[i]['data'], label = plots[i]['label'], color = colors[i%len(colors)])\n",
    "        else:\n",
    "            axs[pid].plot(plots[i]['x'][:len(plots[i]['data'])], plots[i]['data'], label = plots[i]['label'], color = colors[i%len(colors)])\n",
    "        axs[pid].grid()\n",
    "        axs[pid].legend(loc = 'upper right')\n",
    "        \n",
    "        pid+=1"
   ]
  },
  {
   "cell_type": "code",
   "execution_count": 129,
   "id": "pointed-parliament",
   "metadata": {},
   "outputs": [],
   "source": [
    "x_step = 0.1 #x-step\n",
    "t_step = 0.1 #time step\n",
    "max_x = 1\n",
    "max_t = 1\n",
    "\n",
    "w = int(max_x/x_step)\n",
    "h = int(max_t/t_step)\n",
    "\n",
    "T1 = 10\n",
    "T2 = 10\n",
    "T0 = 0.5\n",
    "\n",
    "temperatures = []\n",
    "for i in range(h):\n",
    "    new = []\n",
    "    for j in range(w):\n",
    "        new.append(0)\n",
    "    temperatures.append(new)\n",
    "\n",
    "for i in range(h):\n",
    "    temperatures[i][0] = T1 + (T2-T1)*(i/(h-1))\n",
    "#temperatures[0][w-1] = T0"
   ]
  },
  {
   "cell_type": "code",
   "execution_count": 130,
   "id": "stuffed-element",
   "metadata": {},
   "outputs": [],
   "source": [
    "#temperatures"
   ]
  },
  {
   "cell_type": "code",
   "execution_count": 131,
   "id": "important-wilson",
   "metadata": {},
   "outputs": [
    {
     "data": {
      "text/plain": [
       "<matplotlib.collections.QuadMesh at 0x28e68a55c40>"
      ]
     },
     "execution_count": 131,
     "metadata": {},
     "output_type": "execute_result"
    },
    {
     "data": {
      "image/png": "[encoded data removed]",
      "text/plain": [
       "<Figure size 432x288 with 1 Axes>"
      ]
     },
     "metadata": {
      "needs_background": "light"
     },
     "output_type": "display_data"
    }
   ],
   "source": [
    "plt.pcolormesh(temperatures)\n",
    "#print(temperatures[3][0])"
   ]
  },
  {
   "cell_type": "code",
   "execution_count": 132,
   "id": "european-knife",
   "metadata": {},
   "outputs": [],
   "source": [
    "visited = []\n",
    "for i in range(h):\n",
    "    new = []\n",
    "    for j in range(w):\n",
    "        new.append(0)\n",
    "    visited.append(new)\n",
    "    \n",
    "def getTemp(x, t):\n",
    "    #print(str(x)+\" \"+str(t))\n",
    "    if x < 0 or x >= w or t < 0 or t >= h:\n",
    "        return T0\n",
    "    if x == 0:\n",
    "        return temperatures[t][x]\n",
    "    #if t == 0 and x == w-1:\n",
    "    #    return temperatures[t][x]\n",
    "    #print(x)\n",
    "    #(-(x_step**2)*getTemp(x, t+1)+t_step*getTemp(x+1, t)+t_step*getTemp(x-1, t))/(2*t_step-x_step**2)\n",
    "    return (x_step**2)/t_step*(getTemp(x-1, t+1)-getTemp(x-1, t))+2*getTemp(x-1, t)-getTemp(x-2, t)"
   ]
  },
  {
   "cell_type": "code",
   "execution_count": 133,
   "id": "german-curtis",
   "metadata": {},
   "outputs": [
    {
     "data": {
      "text/plain": [
       "19.5"
      ]
     },
     "execution_count": 133,
     "metadata": {},
     "output_type": "execute_result"
    }
   ],
   "source": [
    "getTemp(1,0)"
   ]
  },
  {
   "cell_type": "code",
   "execution_count": 134,
   "id": "tired-mathematics",
   "metadata": {},
   "outputs": [],
   "source": [
    "for i in range(w):#x\n",
    "    for j in range(h):#t\n",
    "        temperatures[j][i] = getTemp(i,j)"
   ]
  },
  {
   "cell_type": "code",
   "execution_count": 135,
   "id": "vanilla-glasgow",
   "metadata": {},
   "outputs": [
    {
     "data": {
      "text/plain": [
       "<matplotlib.collections.QuadMesh at 0x28e68ad6460>"
      ]
     },
     "execution_count": 135,
     "metadata": {},
     "output_type": "execute_result"
    },
    {
     "data": {
      "image/png": "[encoded data removed]",
      "text/plain": [
       "<Figure size 432x288 with 1 Axes>"
      ]
     },
     "metadata": {
      "needs_background": "light"
     },
     "output_type": "display_data"
    }
   ],
   "source": [
    "plt.pcolormesh(temperatures)"
   ]
  },
  {
   "cell_type": "code",
   "execution_count": 128,
   "id": "prompt-money",
   "metadata": {},
   "outputs": [
    {
     "data": {
      "text/plain": [
       "[[10.0,\n",
       "  19.394444444444446,\n",
       "  28.577777777777783,\n",
       "  37.44444444444445,\n",
       "  45.8888888888889,\n",
       "  53.80555555555558,\n",
       "  61.08888888888892,\n",
       "  67.63333333333335,\n",
       "  73.33333333333333,\n",
       "  78.08333333333329],\n",
       " [8.944444444444445,\n",
       "  17.283333333333335,\n",
       "  25.41111111111112,\n",
       "  33.22222222222223,\n",
       "  40.61111111111112,\n",
       "  47.47222222222223,\n",
       "  53.699999999999996,\n",
       "  59.18888888888887,\n",
       "  63.83333333333329,\n",
       "  67.52777777883327],\n",
       " [7.888888888888889,\n",
       "  15.172222222222222,\n",
       "  22.244444444444444,\n",
       "  28.999999999999993,\n",
       "  35.333333333333314,\n",
       "  41.138888888888864,\n",
       "  46.311111111111074,\n",
       "  50.74444444444439,\n",
       "  54.33333334388881,\n",
       "  56.972222404833225],\n",
       " [6.833333333333334,\n",
       "  13.061111111111112,\n",
       "  19.077777777777776,\n",
       "  24.77777777777777,\n",
       "  30.055555555555543,\n",
       "  34.805555555555536,\n",
       "  38.92222222222219,\n",
       "  42.300000105555505,\n",
       "  44.83333495888883,\n",
       "  46.41667990438882],\n",
       " [5.777777777777778,\n",
       "  10.95,\n",
       "  15.911111111111108,\n",
       "  20.55555555555555,\n",
       "  24.777777777777768,\n",
       "  28.472222222222207,\n",
       "  31.53333438888887,\n",
       "  33.85556980555553,\n",
       "  35.33343588055553,\n",
       "  35.86163325749996],\n",
       " [4.722222222222222,\n",
       "  8.838888888888889,\n",
       "  12.744444444444444,\n",
       "  16.333333333333332,\n",
       "  19.499999999999996,\n",
       "  22.138899444444437,\n",
       "  24.14456688888888,\n",
       "  25.411876388888874,\n",
       "  25.836748899999986,\n",
       "  25.31773923694443],\n",
       " [3.666666666666667,\n",
       "  6.727777777777778,\n",
       "  9.57777777777778,\n",
       "  12.111111111111114,\n",
       "  14.222327777777782,\n",
       "  15.806579444444449,\n",
       "  16.76098744444445,\n",
       "  16.987506500000006,\n",
       "  16.397927158333342,\n",
       "  14.921503161166676],\n",
       " [2.6111111111111107,\n",
       "  4.616666666666666,\n",
       "  6.411111111111111,\n",
       "  7.889944444444445,\n",
       "  8.952677777777778,\n",
       "  9.508142777777778,\n",
       "  9.482097999999999,\n",
       "  8.826522527777776,\n",
       "  7.529480603333331,\n",
       "  5.624064534055554],\n",
       " [1.5555555555555554,\n",
       "  2.505555555555555,\n",
       "  3.254999999999999,\n",
       "  3.728944444444443,\n",
       "  3.879994444444442,\n",
       "  3.6930449999999975,\n",
       "  3.1867910555555534,\n",
       "  2.4118580055555543,\n",
       "  1.445739155,\n",
       "  0.385046388944446],\n",
       " [0.5, 0.5, 0.5, 0.5, 0.5, 0.5, 0.5, 0.5, 0.5, 0.5]]"
      ]
     },
     "execution_count": 128,
     "metadata": {},
     "output_type": "execute_result"
    }
   ],
   "source": [
    "temperatures"
   ]
  },
  {
   "cell_type": "code",
   "execution_count": null,
   "id": "psychological-knitting",
   "metadata": {},
   "outputs": [],
   "source": []
  },
  {
   "cell_type": "code",
   "execution_count": null,
   "id": "reserved-auckland",
   "metadata": {},
   "outputs": [],
   "source": []
  }
 ],
 "metadata": {
  "kernelspec": {
   "display_name": "Python 3",
   "language": "python",
   "name": "python3"
  },
  "language_info": {
   "codemirror_mode": {
    "name": "ipython",
    "version": 3
   },
   "file_extension": ".py",
   "mimetype": "text/x-python",
   "name": "python",
   "nbconvert_exporter": "python",
   "pygments_lexer": "ipython3",
   "version": "3.8.6"
  }
 },
 "nbformat": 4,
 "nbformat_minor": 5
}
