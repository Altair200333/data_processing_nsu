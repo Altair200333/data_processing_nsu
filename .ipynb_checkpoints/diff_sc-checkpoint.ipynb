{
 "cells": [
  {
   "cell_type": "code",
   "execution_count": 5,
   "id": "continental-waterproof",
   "metadata": {},
   "outputs": [],
   "source": [
    "import matplotlib.pyplot as plt\n",
    "import numpy as np\n",
    "import scipy.integrate as integrate\n",
    "import math\n",
    "import scipy.fft as fft\n",
    "from functools import partial\n",
    "from scipy import signal\n",
    "%matplotlib inline"
   ]
  },
  {
   "cell_type": "code",
   "execution_count": 6,
   "id": "powered-calendar",
   "metadata": {},
   "outputs": [],
   "source": [
    "#plt.rcParams['figure.figsize'] = [11, 13]\n",
    "#plt.rcParams['figure.dpi'] = 100"
   ]
  },
  {
   "cell_type": "code",
   "execution_count": 7,
   "id": "minor-inspiration",
   "metadata": {},
   "outputs": [],
   "source": [
    "def showPlots(plots):\n",
    "    colors = ['#06d6a0', '#277da1', '#ee6c4d','#5a189a','#f3722c']\n",
    "    plotCount = 0\n",
    "    \n",
    "    for i in range(len(plots)):\n",
    "        if 'same' not in plots[i] or plots[i]['same'] == False:\n",
    "            plotCount+=1\n",
    "            \n",
    "    fig, axs = plt.subplots(plotCount)\n",
    "    pid = 0\n",
    "    for i in range(len(plots)):\n",
    "        if 'same' in plots[i] and plots[i]['same'] == True and pid > 0:\n",
    "            pid -= 1            \n",
    "        if 'x' not in plots[i]:\n",
    "            axs[pid].plot(plots[i]['data'], label = plots[i]['label'], color = colors[i%len(colors)])\n",
    "        else:\n",
    "            axs[pid].plot(plots[i]['x'][:len(plots[i]['data'])], plots[i]['data'], label = plots[i]['label'], color = colors[i%len(colors)])\n",
    "        axs[pid].grid()\n",
    "        axs[pid].legend(loc = 'upper right')\n",
    "        \n",
    "        pid+=1"
   ]
  },
  {
   "cell_type": "code",
   "execution_count": 33,
   "id": "pointed-parliament",
   "metadata": {},
   "outputs": [],
   "source": [
    "x_step = 0.1 #x-step\n",
    "t_step = 0.05 #time step\n",
    "max_x = 0.4\n",
    "max_t = 0.4\n",
    "\n",
    "w = int(max_x/x_step)\n",
    "h = int(max_t/t_step)\n",
    "\n",
    "T1 = 10\n",
    "T2 = 2\n",
    "T0 = 2\n",
    "\n",
    "temperatures = []\n",
    "for i in range(h):\n",
    "    new = []\n",
    "    for j in range(w):\n",
    "        new.append(0)\n",
    "    temperatures.append(new)\n",
    "\n",
    "for i in range(h):\n",
    "    temperatures[i][0] = T1 + (T2-T1)*(i/(h-1))\n",
    "temperatures[0][w-1] = T0\n",
    "\n",
    "#--------\n",
    "#наверно самый большой вопрос к легальности этого действия\n",
    "for i in range(0, w):\n",
    "    temperatures[0][i] = (T0-T1)/(w-1)*i+T1"
   ]
  },
  {
   "cell_type": "code",
   "execution_count": 34,
   "id": "stuffed-element",
   "metadata": {},
   "outputs": [
    {
     "data": {
      "text/plain": [
       "[[10.0, 7.333333333333334, 4.666666666666667, 2.0],\n",
       " [8.857142857142858, 0, 0, 0],\n",
       " [7.714285714285714, 0, 0, 0],\n",
       " [6.571428571428571, 0, 0, 0],\n",
       " [5.428571428571429, 0, 0, 0],\n",
       " [4.285714285714286, 0, 0, 0],\n",
       " [3.1428571428571432, 0, 0, 0],\n",
       " [2.0, 0, 0, 0]]"
      ]
     },
     "execution_count": 34,
     "metadata": {},
     "output_type": "execute_result"
    }
   ],
   "source": [
    "temperatures"
   ]
  },
  {
   "cell_type": "code",
   "execution_count": 35,
   "id": "important-wilson",
   "metadata": {},
   "outputs": [
    {
     "data": {
      "text/plain": [
       "<matplotlib.collections.QuadMesh at 0x1df48b37730>"
      ]
     },
     "execution_count": 35,
     "metadata": {},
     "output_type": "execute_result"
    },
    {
     "data": {
      "image/png": "[encoded data removed]",
      "text/plain": [
       "<Figure size 432x288 with 1 Axes>"
      ]
     },
     "metadata": {
      "needs_background": "light"
     },
     "output_type": "display_data"
    }
   ],
   "source": [
    "plt.pcolormesh(temperatures)\n",
    "#print(temperatures[3][0])"
   ]
  },
  {
   "cell_type": "code",
   "execution_count": 23,
   "id": "european-knife",
   "metadata": {},
   "outputs": [],
   "source": [
    "visited = []\n",
    "for i in range(h):\n",
    "    new = []\n",
    "    for j in range(w):\n",
    "        new.append(0)\n",
    "    visited.append(new)\n",
    "\n",
    "def getRaw(x, t):\n",
    "    #print(str(x)+\" \"+str(t))\n",
    "    if x < 0 or x >= w or t < 0 or t >= h:\n",
    "        return T0\n",
    "    return temperatures[t][x]\n",
    "def dx2(x, t):\n",
    "    return (getRaw(x-1, t)-2*getRaw(x, t)+getRaw(x+1, t))/(x_step**2)\n",
    "def dt(x, t):\n",
    "    return (getRaw(x, t+1)-getRaw(x, t))/(t_step)\n",
    "def getTemp(x, t):\n",
    "    #return (x_step**2)/t_step*(getRawTemp(x-1, t+1)-getRawTemp(x-1, t))+2*getRawTemp(x-1, t)-getRawTemp(x-2, t)\n",
    "    return t_step/(x_step**2)*(getRaw(x+1, t-1)-2*getRaw(x, t-1)+getRaw(x-1, t-1))+getRaw(x, t-1)"
   ]
  },
  {
   "cell_type": "code",
   "execution_count": 24,
   "id": "german-curtis",
   "metadata": {},
   "outputs": [
    {
     "name": "stdout",
     "output_type": "stream",
     "text": [
      "-1.7763568394002502e-13\n",
      "-22.857142857142847\n"
     ]
    }
   ],
   "source": [
    "print(dx2(1,0))\n",
    "print(dt(0,0))"
   ]
  },
  {
   "cell_type": "code",
   "execution_count": 27,
   "id": "tired-mathematics",
   "metadata": {},
   "outputs": [],
   "source": [
    "for t in range(1, 3):\n",
    "    for i in range(1, w-1):\n",
    "        temperatures[t][i] = getTemp(i,t)\n",
    "#for i in range(1, w-1):#x\n",
    "#    for j in range(1, h):#t\n",
    "#        temperatures[j][i] = getTemp(i,j)"
   ]
  },
  {
   "cell_type": "code",
   "execution_count": 28,
   "id": "vanilla-glasgow",
   "metadata": {},
   "outputs": [
    {
     "data": {
      "text/plain": [
       "<matplotlib.collections.QuadMesh at 0x1df463a3370>"
      ]
     },
     "execution_count": 28,
     "metadata": {},
     "output_type": "execute_result"
    },
    {
     "data": {
      "image/png": "[encoded data removed]",
      "text/plain": [
       "<Figure size 432x288 with 1 Axes>"
      ]
     },
     "metadata": {
      "needs_background": "light"
     },
     "output_type": "display_data"
    }
   ],
   "source": [
    "plt.pcolormesh(temperatures)"
   ]
  },
  {
   "cell_type": "code",
   "execution_count": 29,
   "id": "prompt-money",
   "metadata": {},
   "outputs": [
    {
     "data": {
      "text/plain": [
       "[[10.0, 8.333333333333334, 6.666666666666666, 5.0],\n",
       " [8.857142857142858, 8.333333333333325, 6.666666666666675, 0],\n",
       " [7.714285714285714, 2.6190476190477385, -18.333333333333446, 0],\n",
       " [6.571428571428571, 0, 0, 0],\n",
       " [5.428571428571429, 0, 0, 0],\n",
       " [4.285714285714286, 0, 0, 0],\n",
       " [3.1428571428571432, 0, 0, 0],\n",
       " [2.0, 0, 0, 0]]"
      ]
     },
     "execution_count": 29,
     "metadata": {},
     "output_type": "execute_result"
    }
   ],
   "source": [
    "temperatures"
   ]
  },
  {
   "cell_type": "code",
   "execution_count": null,
   "id": "psychological-knitting",
   "metadata": {},
   "outputs": [],
   "source": []
  },
  {
   "cell_type": "code",
   "execution_count": null,
   "id": "reserved-auckland",
   "metadata": {},
   "outputs": [],
   "source": []
  }
 ],
 "metadata": {
  "kernelspec": {
   "display_name": "Python 3",
   "language": "python",
   "name": "python3"
  },
  "language_info": {
   "codemirror_mode": {
    "name": "ipython",
    "version": 3
   },
   "file_extension": ".py",
   "mimetype": "text/x-python",
   "name": "python",
   "nbconvert_exporter": "python",
   "pygments_lexer": "ipython3",
   "version": "3.8.6"
  }
 },
 "nbformat": 4,
 "nbformat_minor": 5
}
